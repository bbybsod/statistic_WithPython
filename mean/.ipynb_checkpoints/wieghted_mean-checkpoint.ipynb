{
 "cells": [
  {
   "cell_type": "markdown",
   "id": "3f2ffc42-97bc-451c-aa6d-dec36bd927a7",
   "metadata": {},
   "source": [
    "# WEIGHTED MEAN"
   ]
  },
  {
   "cell_type": "code",
   "execution_count": 5,
   "id": "282d196f-96e0-4531-8c11-f051c6786b92",
   "metadata": {},
   "outputs": [],
   "source": [
    "import numpy as np"
   ]
  },
  {
   "cell_type": "markdown",
   "id": "3f9c1f4d-6730-4eba-bfc9-b6a5d69e2ce3",
   "metadata": {},
   "source": [
    "## rata rata bobot"
   ]
  },
  {
   "cell_type": "code",
   "execution_count": 16,
   "id": "4f0fb243-c5c5-46ca-b620-dc6eed74896e",
   "metadata": {},
   "outputs": [],
   "source": [
    "nilai = np.array([85, 90, 78, 92])  \n",
    "bobot = np.array([0.2, 0.3, 0.1, 0.4])"
   ]
  },
  {
   "cell_type": "code",
   "execution_count": 17,
   "id": "a33695be-f06f-4915-a192-1ff25aa6c0e8",
   "metadata": {},
   "outputs": [
    {
     "name": "stdout",
     "output_type": "stream",
     "text": [
      "Weighted Mean: 88.6\n"
     ]
    }
   ],
   "source": [
    "weighted_mean = np.sum(nilai * bobot) / np.sum(bobot)\n",
    "print(\"Weighted Mean:\", weighted_mean) "
   ]
  }
 ],
 "metadata": {
  "kernelspec": {
   "display_name": "Python 3 (ipykernel)",
   "language": "python",
   "name": "python3"
  },
  "language_info": {
   "codemirror_mode": {
    "name": "ipython",
    "version": 3
   },
   "file_extension": ".py",
   "mimetype": "text/x-python",
   "name": "python",
   "nbconvert_exporter": "python",
   "pygments_lexer": "ipython3",
   "version": "3.8.10"
  }
 },
 "nbformat": 4,
 "nbformat_minor": 5
}
