{
 "cells": [
  {
   "cell_type": "markdown",
   "id": "0f2f8619-5376-4d70-b9bb-b3611b037c66",
   "metadata": {},
   "source": [
    "# trimmed mean"
   ]
  },
  {
   "cell_type": "markdown",
   "id": "f1853cb7-5db6-4650-b9f4-4ace91dee471",
   "metadata": {},
   "source": [
    "## library"
   ]
  },
  {
   "cell_type": "code",
   "execution_count": 1,
   "id": "991e2ec9-ede8-4f89-be25-d36c3aa647e6",
   "metadata": {},
   "outputs": [],
   "source": [
    "from scipy import stats"
   ]
  },
  {
   "cell_type": "markdown",
   "id": "f9e17c6b-bbc6-4544-b8fe-5fc999015b8b",
   "metadata": {},
   "source": [
    "## data"
   ]
  },
  {
   "cell_type": "code",
   "execution_count": 2,
   "id": "6b3e4ea3-4108-42a0-b39f-1c526df2982d",
   "metadata": {},
   "outputs": [],
   "source": [
    "data = [120, 125, 130, 135, 140, 1000]"
   ]
  },
  {
   "cell_type": "code",
   "execution_count": 3,
   "id": "2b75a886-0655-480a-a032-fe8b8015db96",
   "metadata": {},
   "outputs": [
    {
     "name": "stdout",
     "output_type": "stream",
     "text": [
      "Trimmed Mean: 275.0\n"
     ]
    }
   ],
   "source": [
    "trimmed_mean = stats.trim_mean(data, proportiontocut=0.1) \n",
    "print(\"Trimmed Mean:\", trimmed_mean)"
   ]
  }
 ],
 "metadata": {
  "kernelspec": {
   "display_name": "Python 3 (ipykernel)",
   "language": "python",
   "name": "python3"
  },
  "language_info": {
   "codemirror_mode": {
    "name": "ipython",
    "version": 3
   },
   "file_extension": ".py",
   "mimetype": "text/x-python",
   "name": "python",
   "nbconvert_exporter": "python",
   "pygments_lexer": "ipython3",
   "version": "3.8.10"
  }
 },
 "nbformat": 4,
 "nbformat_minor": 5
}
