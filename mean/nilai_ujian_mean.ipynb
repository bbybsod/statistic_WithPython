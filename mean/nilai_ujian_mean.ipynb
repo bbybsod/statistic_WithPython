{
 "cells": [
  {
   "cell_type": "markdown",
   "id": "0fc79cf9-229e-49e7-aeea-41a0c614a80b",
   "metadata": {},
   "source": [
    "# Data nilai ujian"
   ]
  },
  {
   "cell_type": "code",
   "execution_count": 1,
   "id": "fc6c3b8b-881e-4c12-ab12-da3b41a35ea4",
   "metadata": {},
   "outputs": [],
   "source": [
    "nilai = [85, 90, 78, 92, 88, 76, 95, 89, 84, 80]"
   ]
  },
  {
   "cell_type": "markdown",
   "id": "16173809-a7a7-4dde-8f4a-f990a2426211",
   "metadata": {},
   "source": [
    "# Menghitung mean manual"
   ]
  },
  {
   "cell_type": "code",
   "execution_count": 2,
   "id": "c6dc857e-c0f1-4bbd-8ba6-36d76da99640",
   "metadata": {},
   "outputs": [],
   "source": [
    "mean_manual = sum(nilai) / len(nilai)"
   ]
  },
  {
   "cell_type": "markdown",
   "id": "242c84aa-dcc1-415c-9952-e5e18ce18d11",
   "metadata": {},
   "source": [
    "# Menghitung mean dengan library statistics"
   ]
  },
  {
   "cell_type": "code",
   "execution_count": 3,
   "id": "bc8fab81-7dcd-4d08-ae76-419d4fbfe080",
   "metadata": {},
   "outputs": [],
   "source": [
    "import statistics\n",
    "mean_lib = statistics.mean(nilai)"
   ]
  },
  {
   "cell_type": "code",
   "execution_count": 4,
   "id": "280f6457-2eeb-4f78-a6fd-c08d31302dc1",
   "metadata": {},
   "outputs": [
    {
     "name": "stdout",
     "output_type": "stream",
     "text": [
      "Mean (manual): 85.7\n",
      "Mean (library statistics): 85.7\n"
     ]
    }
   ],
   "source": [
    "print(\"Mean (manual):\", mean_manual)\n",
    "print(\"Mean (library statistics):\", mean_lib)"
   ]
  }
 ],
 "metadata": {
  "kernelspec": {
   "display_name": "Python 3 (ipykernel)",
   "language": "python",
   "name": "python3"
  },
  "language_info": {
   "codemirror_mode": {
    "name": "ipython",
    "version": 3
   },
   "file_extension": ".py",
   "mimetype": "text/x-python",
   "name": "python",
   "nbconvert_exporter": "python",
   "pygments_lexer": "ipython3",
   "version": "3.8.10"
  }
 },
 "nbformat": 4,
 "nbformat_minor": 5
}
