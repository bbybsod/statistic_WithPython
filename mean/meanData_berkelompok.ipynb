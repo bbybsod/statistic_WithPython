{
 "cells": [
  {
   "cell_type": "markdown",
   "id": "267a647e-c5df-42d9-87ad-b7f7cecb5ac3",
   "metadata": {},
   "source": [
    "## data"
   ]
  },
  {
   "cell_type": "code",
   "execution_count": 4,
   "id": "b9629365-3847-4de5-a702-4285bf462b97",
   "metadata": {},
   "outputs": [],
   "source": [
    "import numpy as np\n",
    "gaji = np.array([15, 16, 17, 18, 19, 20, 22, 23, 24, 150])"
   ]
  },
  {
   "cell_type": "markdown",
   "id": "4a2e9b81-421d-4eb0-b7b0-6734b9f1a6ba",
   "metadata": {},
   "source": [
    "## mean biasa"
   ]
  },
  {
   "cell_type": "code",
   "execution_count": 5,
   "id": "5e31fffa-62ae-4a03-89b1-37021a88e01c",
   "metadata": {},
   "outputs": [
    {
     "name": "stdout",
     "output_type": "stream",
     "text": [
      "Mean biasa: 32.4\n"
     ]
    }
   ],
   "source": [
    "print(\"Mean biasa:\", np.mean(gaji))  # Output: 30.4 (terganggu outlier)"
   ]
  },
  {
   "cell_type": "markdown",
   "id": "3656b8a6-caac-4cc4-aadb-a53452c405e3",
   "metadata": {},
   "source": [
    "## deteksi outlier dengan IQR"
   ]
  },
  {
   "cell_type": "code",
   "execution_count": 6,
   "id": "a4e459ef-1bc0-4e2f-90cc-1a0b089d48c8",
   "metadata": {},
   "outputs": [],
   "source": [
    "Q1 = np.percentile(gaji, 25)\n",
    "Q3 = np.percentile(gaji, 75)\n",
    "IQR = Q3 - Q1\n",
    "bawah = Q1 - 1.5 * IQR\n",
    "atas = Q3 + 1.5 * IQR"
   ]
  },
  {
   "cell_type": "markdown",
   "id": "4b1aae3f-d63d-4afe-b460-3dd209d5dc67",
   "metadata": {},
   "source": [
    "## output"
   ]
  },
  {
   "cell_type": "code",
   "execution_count": 7,
   "id": "e453bf64-7abe-4bd7-8f61-07a1b82c7b00",
   "metadata": {},
   "outputs": [
    {
     "name": "stdout",
     "output_type": "stream",
     "text": [
      "Mean tanpa outlier: 19.333333333333332\n"
     ]
    }
   ],
   "source": [
    "data_bersih = gaji[(gaji >= bawah) & (gaji <= atas)]\n",
    "print(\"Mean tanpa outlier:\", np.mean(data_bersih))"
   ]
  }
 ],
 "metadata": {
  "kernelspec": {
   "display_name": "Python 3 (ipykernel)",
   "language": "python",
   "name": "python3"
  },
  "language_info": {
   "codemirror_mode": {
    "name": "ipython",
    "version": 3
   },
   "file_extension": ".py",
   "mimetype": "text/x-python",
   "name": "python",
   "nbconvert_exporter": "python",
   "pygments_lexer": "ipython3",
   "version": "3.8.10"
  }
 },
 "nbformat": 4,
 "nbformat_minor": 5
}
