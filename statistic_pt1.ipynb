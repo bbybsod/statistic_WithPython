{
 "cells": [
  {
   "cell_type": "markdown",
   "id": "acd91ecd-04d0-49e6-a6aa-acd16f33d66e",
   "metadata": {},
   "source": [
    "# Soal"
   ]
  },
  {
   "cell_type": "markdown",
   "id": "b26ea861-3747-45cc-822f-706f919da9c3",
   "metadata": {},
   "source": [
    "## 1. \"Hitung mean, median, modus, dan standar deviasi dari dataset berikut: [12, 15, 17, 20, 22, 25, 25, 27, 30].\""
   ]
  },
  {
   "cell_type": "markdown",
   "id": "47772e9f-96a3-411b-b340-70bd3fcf156b",
   "metadata": {},
   "source": [
    "### jawaban"
   ]
  },
  {
   "cell_type": "markdown",
   "id": "5f373f74-38d4-4781-9630-593efe4b9d25",
   "metadata": {},
   "source": [
    "### library yang di butuhkan"
   ]
  },
  {
   "cell_type": "code",
   "execution_count": 6,
   "id": "a2a66a79-e2fa-4adf-a73d-d1cb1c379888",
   "metadata": {},
   "outputs": [],
   "source": [
    "import statistics"
   ]
  },
  {
   "cell_type": "markdown",
   "id": "2441f243-c91d-4d7d-a790-e1dfc791d99d",
   "metadata": {},
   "source": [
    "## data"
   ]
  },
  {
   "cell_type": "code",
   "execution_count": 7,
   "id": "cbb3c138-96b3-4439-b1f0-3e415e79093c",
   "metadata": {},
   "outputs": [],
   "source": [
    "data = [12, 15, 17, 20, 22, 25, 25, 27, 30]"
   ]
  },
  {
   "cell_type": "markdown",
   "id": "0964bf55-0eb3-4687-ad17-61269e9ebca7",
   "metadata": {},
   "source": [
    "## Mean"
   ]
  },
  {
   "cell_type": "code",
   "execution_count": 8,
   "id": "6a2a00d0-432d-4f4c-ad21-4191990dcb41",
   "metadata": {},
   "outputs": [
    {
     "name": "stdout",
     "output_type": "stream",
     "text": [
      "Mean: 21.44\n"
     ]
    }
   ],
   "source": [
    "mean = statistics.mean(data)\n",
    "print(f\"Mean: {mean:.2f}\")"
   ]
  },
  {
   "cell_type": "markdown",
   "id": "0e00899a-86ea-4773-8593-5b77330f156b",
   "metadata": {},
   "source": [
    "## Median"
   ]
  },
  {
   "cell_type": "code",
   "execution_count": 9,
   "id": "1e6d180e-1184-4622-87ca-27889cfcb310",
   "metadata": {},
   "outputs": [
    {
     "name": "stdout",
     "output_type": "stream",
     "text": [
      "Median: 22\n"
     ]
    }
   ],
   "source": [
    "median = statistics.median(data)\n",
    "print(f\"Median: {median}\")"
   ]
  },
  {
   "cell_type": "markdown",
   "id": "10f43f73-a7f1-4332-8bc4-e3a370ef9b3d",
   "metadata": {},
   "source": [
    "## Modus"
   ]
  },
  {
   "cell_type": "code",
   "execution_count": 11,
   "id": "3819f951-3596-415b-aea0-8870e66c201f",
   "metadata": {},
   "outputs": [
    {
     "name": "stdout",
     "output_type": "stream",
     "text": [
      "Modus: 25\n"
     ]
    }
   ],
   "source": [
    "mode = statistics.mode(data)  # Akan error jika tidak ada modus\n",
    "print(f\"Modus: {mode}\")"
   ]
  },
  {
   "cell_type": "markdown",
   "id": "4c03b2f5-a7b0-4732-be56-57893fb72599",
   "metadata": {},
   "source": [
    "# Standar deviasi"
   ]
  },
  {
   "cell_type": "code",
   "execution_count": 12,
   "id": "bcb24073-a854-49a9-b9c1-58a264faf3dd",
   "metadata": {},
   "outputs": [
    {
     "name": "stdout",
     "output_type": "stream",
     "text": [
      "Standar Deviasi: 5.94\n"
     ]
    }
   ],
   "source": [
    "stdev = statistics.stdev(data)\n",
    "print(f\"Standar Deviasi: {stdev:.2f}\")"
   ]
  }
 ],
 "metadata": {
  "kernelspec": {
   "display_name": "Python 3 (ipykernel)",
   "language": "python",
   "name": "python3"
  },
  "language_info": {
   "codemirror_mode": {
    "name": "ipython",
    "version": 3
   },
   "file_extension": ".py",
   "mimetype": "text/x-python",
   "name": "python",
   "nbconvert_exporter": "python",
   "pygments_lexer": "ipython3",
   "version": "3.8.10"
  }
 },
 "nbformat": 4,
 "nbformat_minor": 5
}
